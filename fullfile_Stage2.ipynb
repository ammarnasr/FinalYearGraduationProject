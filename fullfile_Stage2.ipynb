{
  "nbformat": 4,
  "nbformat_minor": 0,
  "metadata": {
    "accelerator": "GPU",
    "colab": {
      "name": "fullfile-Stage2.ipynb",
      "provenance": [],
      "collapsed_sections": []
    },
    "kernelspec": {
      "display_name": "Python 3",
      "language": "python",
      "name": "python3"
    },
    "language_info": {
      "codemirror_mode": {
        "name": "ipython",
        "version": 3
      },
      "file_extension": ".py",
      "mimetype": "text/x-python",
      "name": "python",
      "nbconvert_exporter": "python",
      "pygments_lexer": "ipython3",
      "version": "3.7.4"
    }
  },
  "cells": [
    {
      "cell_type": "code",
      "metadata": {
        "id": "yrEu8iC037_4",
        "colab_type": "code",
        "outputId": "48f7c0d1-5054-4401-c9ec-433859a28933",
        "colab": {
          "base_uri": "https://localhost:8080/",
          "height": 126
        }
      },
      "source": [
        "from google.colab import drive\n",
        "drive.mount('/content/drive')"
      ],
      "execution_count": 1,
      "outputs": [
        {
          "output_type": "stream",
          "text": [
            "Go to this URL in a browser: https://accounts.google.com/o/oauth2/auth?client_id=947318989803-6bn6qk8qdgf4n4g3pfee6491hc0brc4i.apps.googleusercontent.com&redirect_uri=urn%3aietf%3awg%3aoauth%3a2.0%3aoob&response_type=code&scope=email%20https%3a%2f%2fwww.googleapis.com%2fauth%2fdocs.test%20https%3a%2f%2fwww.googleapis.com%2fauth%2fdrive%20https%3a%2f%2fwww.googleapis.com%2fauth%2fdrive.photos.readonly%20https%3a%2f%2fwww.googleapis.com%2fauth%2fpeopleapi.readonly\n",
            "\n",
            "Enter your authorization code:\n",
            "··········\n",
            "Mounted at /content/drive\n"
          ],
          "name": "stdout"
        }
      ]
    },
    {
      "cell_type": "code",
      "metadata": {
        "colab_type": "code",
        "id": "zS_ODHROj9Ym",
        "colab": {
          "base_uri": "https://localhost:8080/",
          "height": 141
        },
        "outputId": "81079d2f-ddaf-428e-de9c-9a8bbf136559"
      },
      "source": [
        "!git clone https://github.com/tohinz/multiple-objects-gan.git"
      ],
      "execution_count": 2,
      "outputs": [
        {
          "output_type": "stream",
          "text": [
            "Cloning into 'multiple-objects-gan'...\n",
            "remote: Enumerating objects: 17, done.\u001b[K\n",
            "remote: Counting objects:   5% (1/17)\u001b[K\rremote: Counting objects:  11% (2/17)\u001b[K\rremote: Counting objects:  17% (3/17)\u001b[K\rremote: Counting objects:  23% (4/17)\u001b[K\rremote: Counting objects:  29% (5/17)\u001b[K\rremote: Counting objects:  35% (6/17)\u001b[K\rremote: Counting objects:  41% (7/17)\u001b[K\rremote: Counting objects:  47% (8/17)\u001b[K\rremote: Counting objects:  52% (9/17)\u001b[K\rremote: Counting objects:  58% (10/17)\u001b[K\rremote: Counting objects:  64% (11/17)\u001b[K\rremote: Counting objects:  70% (12/17)\u001b[K\rremote: Counting objects:  76% (13/17)\u001b[K\rremote: Counting objects:  82% (14/17)\u001b[K\rremote: Counting objects:  88% (15/17)\u001b[K\rremote: Counting objects:  94% (16/17)\u001b[K\rremote: Counting objects: 100% (17/17)\u001b[K\rremote: Counting objects: 100% (17/17), done.\u001b[K\n",
            "remote: Compressing objects: 100% (15/15), done.\u001b[K\n",
            "remote: Total 415 (delta 4), reused 0 (delta 0), pack-reused 398\u001b[K\n",
            "Receiving objects: 100% (415/415), 23.04 MiB | 19.98 MiB/s, done.\n",
            "Resolving deltas: 100% (189/189), done.\n"
          ],
          "name": "stdout"
        }
      ]
    },
    {
      "cell_type": "code",
      "metadata": {
        "colab_type": "code",
        "id": "kiUkJic2kL4V",
        "colab": {
          "base_uri": "https://localhost:8080/",
          "height": 35
        },
        "outputId": "14baecb3-23c1-4583-c244-1199504d413f"
      },
      "source": [
        "cd multiple-objects-gan/data/"
      ],
      "execution_count": 3,
      "outputs": [
        {
          "output_type": "stream",
          "text": [
            "/content/multiple-objects-gan/data\n"
          ],
          "name": "stdout"
        }
      ]
    },
    {
      "cell_type": "code",
      "metadata": {
        "colab_type": "code",
        "id": "ZZ7JwaOWkTCE",
        "colab": {
          "base_uri": "https://localhost:8080/",
          "height": 212
        },
        "outputId": "73461e32-28ea-4b09-a62c-419241dda388"
      },
      "source": [
        "!wget https://www2.informatik.uni-hamburg.de/wtm/software/multiple-objects-gan/data-ms-coco.zip"
      ],
      "execution_count": 4,
      "outputs": [
        {
          "output_type": "stream",
          "text": [
            "--2020-04-12 19:40:19--  https://www2.informatik.uni-hamburg.de/wtm/software/multiple-objects-gan/data-ms-coco.zip\n",
            "Resolving www2.informatik.uni-hamburg.de (www2.informatik.uni-hamburg.de)... 134.100.9.79\n",
            "Connecting to www2.informatik.uni-hamburg.de (www2.informatik.uni-hamburg.de)|134.100.9.79|:443... connected.\n",
            "HTTP request sent, awaiting response... 200 OK\n",
            "Length: 4312414 (4.1M) [application/zip]\n",
            "Saving to: ‘data-ms-coco.zip’\n",
            "\n",
            "\rdata-ms-coco.zip      0%[                    ]       0  --.-KB/s               \rdata-ms-coco.zip    100%[===================>]   4.11M  27.4MB/s    in 0.2s    \n",
            "\n",
            "2020-04-12 19:40:19 (27.4 MB/s) - ‘data-ms-coco.zip’ saved [4312414/4312414]\n",
            "\n"
          ],
          "name": "stdout"
        }
      ]
    },
    {
      "cell_type": "code",
      "metadata": {
        "colab_type": "code",
        "id": "nlN1-Yk8kbLg",
        "colab": {}
      },
      "source": [
        "!unzip -q data-ms-coco.zip"
      ],
      "execution_count": 0,
      "outputs": []
    },
    {
      "cell_type": "code",
      "metadata": {
        "colab_type": "code",
        "id": "6kBUu2CVkiUl",
        "colab": {}
      },
      "source": [
        "rm data-ms-coco.zip"
      ],
      "execution_count": 0,
      "outputs": []
    },
    {
      "cell_type": "code",
      "metadata": {
        "colab_type": "code",
        "id": "9KXYbdkYkoek",
        "colab": {
          "base_uri": "https://localhost:8080/",
          "height": 464
        },
        "outputId": "3e514709-a5a5-46a9-96a0-c22823b1ddf1"
      },
      "source": [
        "!wget --load-cookies /tmp/cookies.txt \"https://docs.google.com/uc?export=download&confirm=$(wget --quiet --save-cookies /tmp/cookies.txt --keep-session-cookies --no-check-certificate 'https://docs.google.com/uc?export=download&id=0B3y_msrWZaXLQXVzOENCY2E3TlU' -O- | sed -rn 's/.*confirm=([0-9A-Za-z_]+).*/\\1\\n/p')&id=0B3y_msrWZaXLQXVzOENCY2E3TlU\" -O coco.zip && rm -rf /tmp/cookies.txt"
      ],
      "execution_count": 7,
      "outputs": [
        {
          "output_type": "stream",
          "text": [
            "--2020-04-12 19:40:33--  https://docs.google.com/uc?export=download&confirm=vaeg&id=0B3y_msrWZaXLQXVzOENCY2E3TlU\n",
            "Resolving docs.google.com (docs.google.com)... 173.194.79.138, 173.194.79.113, 173.194.79.101, ...\n",
            "Connecting to docs.google.com (docs.google.com)|173.194.79.138|:443... connected.\n",
            "HTTP request sent, awaiting response... 302 Moved Temporarily\n",
            "Location: https://doc-0g-c4-docs.googleusercontent.com/docs/securesc/p9c1g69rpt116b46dg90qeelanian5c3/2fv7fh4u5sfdrnbhobvddr5fdpblbaie/1586720400000/16427414401649018968/13704076662168428424Z/0B3y_msrWZaXLQXVzOENCY2E3TlU?e=download [following]\n",
            "--2020-04-12 19:40:33--  https://doc-0g-c4-docs.googleusercontent.com/docs/securesc/p9c1g69rpt116b46dg90qeelanian5c3/2fv7fh4u5sfdrnbhobvddr5fdpblbaie/1586720400000/16427414401649018968/13704076662168428424Z/0B3y_msrWZaXLQXVzOENCY2E3TlU?e=download\n",
            "Resolving doc-0g-c4-docs.googleusercontent.com (doc-0g-c4-docs.googleusercontent.com)... 108.177.119.132, 2a00:1450:4013:c00::84\n",
            "Connecting to doc-0g-c4-docs.googleusercontent.com (doc-0g-c4-docs.googleusercontent.com)|108.177.119.132|:443... connected.\n",
            "HTTP request sent, awaiting response... 302 Found\n",
            "Location: https://docs.google.com/nonceSigner?nonce=m7c6bum21oc54&continue=https://doc-0g-c4-docs.googleusercontent.com/docs/securesc/p9c1g69rpt116b46dg90qeelanian5c3/2fv7fh4u5sfdrnbhobvddr5fdpblbaie/1586720400000/16427414401649018968/13704076662168428424Z/0B3y_msrWZaXLQXVzOENCY2E3TlU?e%3Ddownload&hash=4gn5dk4cuehjngk2oucu3nkmi9v23e3a [following]\n",
            "--2020-04-12 19:40:33--  https://docs.google.com/nonceSigner?nonce=m7c6bum21oc54&continue=https://doc-0g-c4-docs.googleusercontent.com/docs/securesc/p9c1g69rpt116b46dg90qeelanian5c3/2fv7fh4u5sfdrnbhobvddr5fdpblbaie/1586720400000/16427414401649018968/13704076662168428424Z/0B3y_msrWZaXLQXVzOENCY2E3TlU?e%3Ddownload&hash=4gn5dk4cuehjngk2oucu3nkmi9v23e3a\n",
            "Connecting to docs.google.com (docs.google.com)|173.194.79.138|:443... connected.\n",
            "HTTP request sent, awaiting response... 302 Found\n",
            "Location: https://doc-0g-c4-docs.googleusercontent.com/docs/securesc/p9c1g69rpt116b46dg90qeelanian5c3/2fv7fh4u5sfdrnbhobvddr5fdpblbaie/1586720400000/16427414401649018968/13704076662168428424Z/0B3y_msrWZaXLQXVzOENCY2E3TlU?e=download&nonce=m7c6bum21oc54&user=13704076662168428424Z&hash=vqc00efrjmrn7i9mjvaup0f7eet3i24t [following]\n",
            "--2020-04-12 19:40:33--  https://doc-0g-c4-docs.googleusercontent.com/docs/securesc/p9c1g69rpt116b46dg90qeelanian5c3/2fv7fh4u5sfdrnbhobvddr5fdpblbaie/1586720400000/16427414401649018968/13704076662168428424Z/0B3y_msrWZaXLQXVzOENCY2E3TlU?e=download&nonce=m7c6bum21oc54&user=13704076662168428424Z&hash=vqc00efrjmrn7i9mjvaup0f7eet3i24t\n",
            "Connecting to doc-0g-c4-docs.googleusercontent.com (doc-0g-c4-docs.googleusercontent.com)|108.177.119.132|:443... connected.\n",
            "HTTP request sent, awaiting response... 200 OK\n",
            "Length: unspecified [application/zip]\n",
            "Saving to: ‘coco.zip’\n",
            "\n",
            "coco.zip                [             <=>    ]   1.48G  55.5MB/s    in 19s     \n",
            "\n",
            "2020-04-12 19:40:53 (79.4 MB/s) - ‘coco.zip’ saved [1587844671]\n",
            "\n"
          ],
          "name": "stdout"
        }
      ]
    },
    {
      "cell_type": "code",
      "metadata": {
        "colab_type": "code",
        "id": "yxReNnMXl5NT",
        "colab": {}
      },
      "source": [
        "!unzip -q coco.zip"
      ],
      "execution_count": 0,
      "outputs": []
    },
    {
      "cell_type": "code",
      "metadata": {
        "colab_type": "code",
        "id": "2pW3h3i3m7ce",
        "colab": {}
      },
      "source": [
        "rm -r __MACOSX/"
      ],
      "execution_count": 0,
      "outputs": []
    },
    {
      "cell_type": "code",
      "metadata": {
        "colab_type": "code",
        "id": "-9pIvlWbpDro",
        "colab": {}
      },
      "source": [
        "rm README.md"
      ],
      "execution_count": 0,
      "outputs": []
    },
    {
      "cell_type": "code",
      "metadata": {
        "colab_type": "code",
        "id": "NhS65UEBpHtd",
        "colab": {}
      },
      "source": [
        "rm coco.zip"
      ],
      "execution_count": 0,
      "outputs": []
    },
    {
      "cell_type": "code",
      "metadata": {
        "colab_type": "code",
        "id": "hZqWE57Lm7ZF",
        "colab": {}
      },
      "source": [
        "mv coco/test/filename.txt MS-COCO/test/"
      ],
      "execution_count": 0,
      "outputs": []
    },
    {
      "cell_type": "code",
      "metadata": {
        "colab_type": "code",
        "id": "faaz2F96o2Mu",
        "colab": {}
      },
      "source": [
        "mv coco/test/filenames.pickle MS-COCO/test/"
      ],
      "execution_count": 0,
      "outputs": []
    },
    {
      "cell_type": "code",
      "metadata": {
        "colab_type": "code",
        "id": "ul-1AtgbnNWw",
        "colab": {}
      },
      "source": [
        "mv coco/train/char-CNN-RNN-embeddings.pickle MS-COCO/train/"
      ],
      "execution_count": 0,
      "outputs": []
    },
    {
      "cell_type": "code",
      "metadata": {
        "colab_type": "code",
        "id": "i9aAc3hmo76Z",
        "colab": {}
      },
      "source": [
        "mv coco/train/filenames.pickle MS-COCO/train/"
      ],
      "execution_count": 0,
      "outputs": []
    },
    {
      "cell_type": "code",
      "metadata": {
        "colab_type": "code",
        "id": "34BfP8Ropq-v",
        "colab": {}
      },
      "source": [
        "rm -r coco/"
      ],
      "execution_count": 0,
      "outputs": []
    },
    {
      "cell_type": "code",
      "metadata": {
        "colab_type": "code",
        "id": "25iwXWJcpwkc",
        "colab": {
          "base_uri": "https://localhost:8080/",
          "height": 35
        },
        "outputId": "0a564c45-5cc1-4b91-cd97-b063225cf6b6"
      },
      "source": [
        "cd MS-COCO/train/"
      ],
      "execution_count": 17,
      "outputs": [
        {
          "output_type": "stream",
          "text": [
            "/content/multiple-objects-gan/data/MS-COCO/train\n"
          ],
          "name": "stdout"
        }
      ]
    },
    {
      "cell_type": "code",
      "metadata": {
        "colab_type": "code",
        "id": "DqfQJirBlvom",
        "colab": {
          "base_uri": "https://localhost:8080/",
          "height": 212
        },
        "outputId": "e9ead757-6fee-4cf0-9361-bb263f8bec32"
      },
      "source": [
        "!wget http://images.cocodataset.org/zips/train2014.zip"
      ],
      "execution_count": 18,
      "outputs": [
        {
          "output_type": "stream",
          "text": [
            "--2020-04-12 19:43:21--  http://images.cocodataset.org/zips/train2014.zip\n",
            "Resolving images.cocodataset.org (images.cocodataset.org)... 52.216.92.179\n",
            "Connecting to images.cocodataset.org (images.cocodataset.org)|52.216.92.179|:80... connected.\n",
            "HTTP request sent, awaiting response... 200 OK\n",
            "Length: 13510573713 (13G) [application/zip]\n",
            "Saving to: ‘train2014.zip’\n",
            "\n",
            "train2014.zip       100%[===================>]  12.58G  35.1MB/s    in 6m 4s   \n",
            "\n",
            "2020-04-12 19:49:25 (35.4 MB/s) - ‘train2014.zip’ saved [13510573713/13510573713]\n",
            "\n"
          ],
          "name": "stdout"
        }
      ]
    },
    {
      "cell_type": "code",
      "metadata": {
        "colab_type": "code",
        "id": "rJhW8sD4p2KA",
        "colab": {}
      },
      "source": [
        "!unzip -q train2014.zip"
      ],
      "execution_count": 0,
      "outputs": []
    },
    {
      "cell_type": "code",
      "metadata": {
        "colab_type": "code",
        "id": "rbHzOiohs1VC",
        "colab": {}
      },
      "source": [
        "rm train2014.zip"
      ],
      "execution_count": 0,
      "outputs": []
    },
    {
      "cell_type": "code",
      "metadata": {
        "colab_type": "code",
        "id": "deGJPk9ks9Zl",
        "outputId": "eebec3e9-72d0-4678-f01e-05dcb489756b",
        "colab": {
          "base_uri": "https://localhost:8080/",
          "height": 35
        }
      },
      "source": [
        "cd .."
      ],
      "execution_count": 21,
      "outputs": [
        {
          "output_type": "stream",
          "text": [
            "/content/multiple-objects-gan/data/MS-COCO\n"
          ],
          "name": "stdout"
        }
      ]
    },
    {
      "cell_type": "code",
      "metadata": {
        "colab_type": "code",
        "id": "57zB8f0bs_rX",
        "outputId": "13dba735-d3b0-4f13-8de7-14ca534e35cd",
        "colab": {
          "base_uri": "https://localhost:8080/",
          "height": 35
        }
      },
      "source": [
        "cd .."
      ],
      "execution_count": 22,
      "outputs": [
        {
          "output_type": "stream",
          "text": [
            "/content/multiple-objects-gan/data\n"
          ],
          "name": "stdout"
        }
      ]
    },
    {
      "cell_type": "code",
      "metadata": {
        "colab_type": "code",
        "id": "GEF0LilKf_-z",
        "outputId": "fc3a78bc-26c3-4106-db0b-5dcb0c667f15",
        "colab": {
          "base_uri": "https://localhost:8080/",
          "height": 35
        }
      },
      "source": [
        "cd .."
      ],
      "execution_count": 23,
      "outputs": [
        {
          "output_type": "stream",
          "text": [
            "/content/multiple-objects-gan\n"
          ],
          "name": "stdout"
        }
      ]
    },
    {
      "cell_type": "code",
      "metadata": {
        "colab_type": "code",
        "id": "smFoB3fFf_uz",
        "outputId": "f6aec5ed-971f-48a3-836f-aabe7f96b9d6",
        "colab": {
          "base_uri": "https://localhost:8080/",
          "height": 35
        }
      },
      "source": [
        "cd .."
      ],
      "execution_count": 24,
      "outputs": [
        {
          "output_type": "stream",
          "text": [
            "/content\n"
          ],
          "name": "stdout"
        }
      ]
    },
    {
      "cell_type": "code",
      "metadata": {
        "id": "q3mKs_Md31AU",
        "colab_type": "code",
        "outputId": "ffc0426d-a7c1-4336-fe41-69697fa38778",
        "colab": {
          "base_uri": "https://localhost:8080/",
          "height": 52
        }
      },
      "source": [
        "ls"
      ],
      "execution_count": 25,
      "outputs": [
        {
          "output_type": "stream",
          "text": [
            "config.py    \u001b[0m\u001b[01;34mdrive\u001b[0m/                 \u001b[01;34msample_data\u001b[0m/  utils.py\n",
            "datasets.py  \u001b[01;34mmultiple-objects-gan\u001b[0m/  trainer.py\n"
          ],
          "name": "stdout"
        }
      ]
    },
    {
      "cell_type": "code",
      "metadata": {
        "colab_type": "code",
        "id": "Ckj3-E5ktCdp",
        "colab": {}
      },
      "source": [
        "mv trainer.py multiple-objects-gan/code/coco/stackgan/"
      ],
      "execution_count": 0,
      "outputs": []
    },
    {
      "cell_type": "code",
      "metadata": {
        "colab_type": "code",
        "id": "H1sg_48ogFc3",
        "colab": {}
      },
      "source": [
        "mv config.py multiple-objects-gan/code/coco/stackgan/miscc/"
      ],
      "execution_count": 0,
      "outputs": []
    },
    {
      "cell_type": "code",
      "metadata": {
        "colab_type": "code",
        "id": "r7uh51sEgVr9",
        "colab": {}
      },
      "source": [
        "mv utils.py multiple-objects-gan/code/coco/stackgan/miscc/"
      ],
      "execution_count": 0,
      "outputs": []
    },
    {
      "cell_type": "code",
      "metadata": {
        "colab_type": "code",
        "id": "te4cR53ggpK4",
        "colab": {}
      },
      "source": [
        "mv datasets.py multiple-objects-gan/code/coco/stackgan/miscc/"
      ],
      "execution_count": 0,
      "outputs": []
    },
    {
      "cell_type": "code",
      "metadata": {
        "colab_type": "code",
        "id": "Q13Ty8JOgtpT",
        "outputId": "7184ae8e-e68c-4dcd-f455-8060cb8e0a96",
        "colab": {
          "base_uri": "https://localhost:8080/",
          "height": 35
        }
      },
      "source": [
        "cd multiple-objects-gan/"
      ],
      "execution_count": 31,
      "outputs": [
        {
          "output_type": "stream",
          "text": [
            "/content/multiple-objects-gan\n"
          ],
          "name": "stdout"
        }
      ]
    },
    {
      "cell_type": "code",
      "metadata": {
        "colab_type": "code",
        "id": "ABJzVX-9tEGM",
        "outputId": "500caac9-1059-4412-d11e-8c1a752f6144",
        "colab": {
          "base_uri": "https://localhost:8080/",
          "height": 1000
        }
      },
      "source": [
        "!sh train.sh coco-stackgan-2 '0' #12:30 am , 2/1/2020 epoch 14 at 3:20 am"
      ],
      "execution_count": 32,
      "outputs": [
        {
          "output_type": "stream",
          "text": [
            "Starting training on the MS-COCO data set.\n",
            "Using config:\n",
            "{'CONFIG_NAME': 'stageII',\n",
            " 'CUDA': True,\n",
            " 'DATASET_NAME': 'coco',\n",
            " 'DATA_DIR': '../../../data/MS-COCO',\n",
            " 'EMBEDDING_TYPE': 'cnn-rnn',\n",
            " 'GAN': {'CONDITION_DIM': 128, 'DF_DIM': 96, 'GF_DIM': 192, 'R_NUM': 2},\n",
            " 'GPU_ID': '0',\n",
            " 'IMG_DIR': '../../../data/MS-COCO/train/train2014',\n",
            " 'IMSIZE': 256,\n",
            " 'NET_D': '',\n",
            " 'NET_G': '',\n",
            " 'STAGE': 2,\n",
            " 'STAGE1_G': '../../../data/models/pretrained_model.pth',\n",
            " 'TEXT': {'DIMENSION': 1024},\n",
            " 'TRAIN': {'BATCH_SIZE': 40,\n",
            "           'COEFF': {'KL': 2.0},\n",
            "           'DISCRIMINATOR_LR': 0.0002,\n",
            "           'FLAG': True,\n",
            "           'GENERATOR_LR': 0.0002,\n",
            "           'LR_DECAY_EPOCH': 20,\n",
            "           'MAX_EPOCH': 120,\n",
            "           'PRETRAINED_EPOCH': 600,\n",
            "           'PRETRAINED_MODEL': '',\n",
            "           'SNAPSHOT_INTERVAL': 10},\n",
            " 'USE_BBOX_LAYOUT': True,\n",
            " 'USE_LOCAL_PATHWAY': True,\n",
            " 'VIS_COUNT': 64,\n",
            " 'WORKERS': 16,\n",
            " 'Z_DIM': 100}\n",
            "Load filenames from: ../../../data/MS-COCO/train/filenames.pickle (82783)\n",
            "tcmalloc: large alloc 1695399936 bytes == 0xf9184000 @  0x7f2fd14e01e7 0x7f2fced845e1 0x7f2fcede8e88 0x7f2fcedebfc8 0x7f2fcedec5a5 0x7f2fcee8384d 0x50ac25 0x50c5b9 0x509d48 0x50aa7d 0x50c5b9 0x508245 0x509642 0x595311 0x54a6ff 0x551b81 0x5aa6ec 0x50abb3 0x50d390 0x508245 0x50b403 0x635222 0x6352d7 0x638a8f 0x639631 0x4b0f40 0x7f2fd10ddb97 0x5b2fda\n",
            "2020-04-12 20:01:47.300075: I tensorflow/stream_executor/platform/default/dso_loader.cc:44] Successfully opened dynamic library libcudart.so.10.1\n",
            "STAGE2_G(\n",
            "  (STAGE1_G): STAGE1_G(\n",
            "    (ca_net): CA_NET(\n",
            "      (fc): Linear(in_features=1024, out_features=256, bias=True)\n",
            "      (relu): ReLU()\n",
            "    )\n",
            "    (bbox_net): BBOX_NET(\n",
            "      (encode): Sequential(\n",
            "        (0): Conv2d(128, 64, kernel_size=(3, 3), stride=(2, 2), padding=(1, 1), bias=False)\n",
            "        (1): LeakyReLU(negative_slope=0.2, inplace=True)\n",
            "        (2): Conv2d(64, 32, kernel_size=(3, 3), stride=(2, 2), padding=(1, 1), bias=False)\n",
            "        (3): BatchNorm2d(32, eps=1e-05, momentum=0.1, affine=True, track_running_stats=True)\n",
            "        (4): LeakyReLU(negative_slope=0.2, inplace=True)\n",
            "        (5): Conv2d(32, 16, kernel_size=(3, 3), stride=(2, 2), padding=(1, 1), bias=False)\n",
            "        (6): BatchNorm2d(16, eps=1e-05, momentum=0.1, affine=True, track_running_stats=True)\n",
            "        (7): LeakyReLU(negative_slope=0.2, inplace=True)\n",
            "      )\n",
            "    )\n",
            "    (fc): Sequential(\n",
            "      (0): Linear(in_features=292, out_features=24576, bias=False)\n",
            "      (1): BatchNorm1d(24576, eps=1e-05, momentum=0.1, affine=True, track_running_stats=True)\n",
            "      (2): ReLU(inplace=True)\n",
            "    )\n",
            "    (label): Sequential(\n",
            "      (0): Linear(in_features=209, out_features=128, bias=False)\n",
            "      (1): BatchNorm1d(128, eps=1e-05, momentum=0.1, affine=True, track_running_stats=True)\n",
            "      (2): ReLU(inplace=True)\n",
            "    )\n",
            "    (local1): Sequential(\n",
            "      (0): Upsample(scale_factor=2.0, mode=nearest)\n",
            "      (1): Conv2d(128, 768, kernel_size=(3, 3), stride=(1, 1), padding=(1, 1), bias=False)\n",
            "      (2): BatchNorm2d(768, eps=1e-05, momentum=0.1, affine=True, track_running_stats=True)\n",
            "      (3): ReLU(inplace=True)\n",
            "    )\n",
            "    (local2): Sequential(\n",
            "      (0): Upsample(scale_factor=2.0, mode=nearest)\n",
            "      (1): Conv2d(768, 384, kernel_size=(3, 3), stride=(1, 1), padding=(1, 1), bias=False)\n",
            "      (2): BatchNorm2d(384, eps=1e-05, momentum=0.1, affine=True, track_running_stats=True)\n",
            "      (3): ReLU(inplace=True)\n",
            "    )\n",
            "    (upsample1): Sequential(\n",
            "      (0): Upsample(scale_factor=2.0, mode=nearest)\n",
            "      (1): Conv2d(1536, 768, kernel_size=(3, 3), stride=(1, 1), padding=(1, 1), bias=False)\n",
            "      (2): BatchNorm2d(768, eps=1e-05, momentum=0.1, affine=True, track_running_stats=True)\n",
            "      (3): ReLU(inplace=True)\n",
            "    )\n",
            "    (upsample2): Sequential(\n",
            "      (0): Upsample(scale_factor=2.0, mode=nearest)\n",
            "      (1): Conv2d(768, 384, kernel_size=(3, 3), stride=(1, 1), padding=(1, 1), bias=False)\n",
            "      (2): BatchNorm2d(384, eps=1e-05, momentum=0.1, affine=True, track_running_stats=True)\n",
            "      (3): ReLU(inplace=True)\n",
            "    )\n",
            "    (upsample3): Sequential(\n",
            "      (0): Upsample(scale_factor=2.0, mode=nearest)\n",
            "      (1): Conv2d(768, 192, kernel_size=(3, 3), stride=(1, 1), padding=(1, 1), bias=False)\n",
            "      (2): BatchNorm2d(192, eps=1e-05, momentum=0.1, affine=True, track_running_stats=True)\n",
            "      (3): ReLU(inplace=True)\n",
            "    )\n",
            "    (upsample4): Sequential(\n",
            "      (0): Upsample(scale_factor=2.0, mode=nearest)\n",
            "      (1): Conv2d(192, 96, kernel_size=(3, 3), stride=(1, 1), padding=(1, 1), bias=False)\n",
            "      (2): BatchNorm2d(96, eps=1e-05, momentum=0.1, affine=True, track_running_stats=True)\n",
            "      (3): ReLU(inplace=True)\n",
            "    )\n",
            "    (img): Sequential(\n",
            "      (0): Conv2d(96, 3, kernel_size=(3, 3), stride=(1, 1), padding=(1, 1), bias=False)\n",
            "      (1): Tanh()\n",
            "    )\n",
            "  )\n",
            "  (ca_net): CA_NET(\n",
            "    (fc): Linear(in_features=1024, out_features=256, bias=True)\n",
            "    (relu): ReLU()\n",
            "  )\n",
            "  (label): Sequential(\n",
            "    (0): Linear(in_features=209, out_features=128, bias=False)\n",
            "    (1): BatchNorm1d(128, eps=1e-05, momentum=0.1, affine=True, track_running_stats=True)\n",
            "    (2): ReLU(inplace=True)\n",
            "  )\n",
            "  (local1): Sequential(\n",
            "    (0): Upsample(scale_factor=2.0, mode=nearest)\n",
            "    (1): Conv2d(896, 384, kernel_size=(3, 3), stride=(1, 1), padding=(1, 1), bias=False)\n",
            "    (2): BatchNorm2d(384, eps=1e-05, momentum=0.1, affine=True, track_running_stats=True)\n",
            "    (3): ReLU(inplace=True)\n",
            "  )\n",
            "  (local2): Sequential(\n",
            "    (0): Upsample(scale_factor=2.0, mode=nearest)\n",
            "    (1): Conv2d(384, 192, kernel_size=(3, 3), stride=(1, 1), padding=(1, 1), bias=False)\n",
            "    (2): BatchNorm2d(192, eps=1e-05, momentum=0.1, affine=True, track_running_stats=True)\n",
            "    (3): ReLU(inplace=True)\n",
            "  )\n",
            "  (encoder): Sequential(\n",
            "    (0): Conv2d(3, 192, kernel_size=(3, 3), stride=(1, 1), padding=(1, 1), bias=False)\n",
            "    (1): ReLU(inplace=True)\n",
            "    (2): Conv2d(192, 384, kernel_size=(4, 4), stride=(2, 2), padding=(1, 1), bias=False)\n",
            "    (3): BatchNorm2d(384, eps=1e-05, momentum=0.1, affine=True, track_running_stats=True)\n",
            "    (4): ReLU(inplace=True)\n",
            "    (5): Conv2d(384, 768, kernel_size=(4, 4), stride=(2, 2), padding=(1, 1), bias=False)\n",
            "    (6): BatchNorm2d(768, eps=1e-05, momentum=0.1, affine=True, track_running_stats=True)\n",
            "    (7): ReLU(inplace=True)\n",
            "  )\n",
            "  (hr_joint): Sequential(\n",
            "    (0): Conv2d(1024, 768, kernel_size=(3, 3), stride=(1, 1), padding=(1, 1), bias=False)\n",
            "    (1): BatchNorm2d(768, eps=1e-05, momentum=0.1, affine=True, track_running_stats=True)\n",
            "    (2): ReLU(inplace=True)\n",
            "  )\n",
            "  (residual): Sequential(\n",
            "    (0): ResBlock(\n",
            "      (block): Sequential(\n",
            "        (0): Conv2d(768, 768, kernel_size=(3, 3), stride=(1, 1), padding=(1, 1), bias=False)\n",
            "        (1): BatchNorm2d(768, eps=1e-05, momentum=0.1, affine=True, track_running_stats=True)\n",
            "        (2): ReLU(inplace=True)\n",
            "        (3): Conv2d(768, 768, kernel_size=(3, 3), stride=(1, 1), padding=(1, 1), bias=False)\n",
            "        (4): BatchNorm2d(768, eps=1e-05, momentum=0.1, affine=True, track_running_stats=True)\n",
            "      )\n",
            "      (relu): ReLU(inplace=True)\n",
            "    )\n",
            "    (1): ResBlock(\n",
            "      (block): Sequential(\n",
            "        (0): Conv2d(768, 768, kernel_size=(3, 3), stride=(1, 1), padding=(1, 1), bias=False)\n",
            "        (1): BatchNorm2d(768, eps=1e-05, momentum=0.1, affine=True, track_running_stats=True)\n",
            "        (2): ReLU(inplace=True)\n",
            "        (3): Conv2d(768, 768, kernel_size=(3, 3), stride=(1, 1), padding=(1, 1), bias=False)\n",
            "        (4): BatchNorm2d(768, eps=1e-05, momentum=0.1, affine=True, track_running_stats=True)\n",
            "      )\n",
            "      (relu): ReLU(inplace=True)\n",
            "    )\n",
            "  )\n",
            "  (upsample1): Sequential(\n",
            "    (0): Upsample(scale_factor=2.0, mode=nearest)\n",
            "    (1): Conv2d(768, 384, kernel_size=(3, 3), stride=(1, 1), padding=(1, 1), bias=False)\n",
            "    (2): BatchNorm2d(384, eps=1e-05, momentum=0.1, affine=True, track_running_stats=True)\n",
            "    (3): ReLU(inplace=True)\n",
            "  )\n",
            "  (upsample2): Sequential(\n",
            "    (0): Upsample(scale_factor=2.0, mode=nearest)\n",
            "    (1): Conv2d(384, 192, kernel_size=(3, 3), stride=(1, 1), padding=(1, 1), bias=False)\n",
            "    (2): BatchNorm2d(192, eps=1e-05, momentum=0.1, affine=True, track_running_stats=True)\n",
            "    (3): ReLU(inplace=True)\n",
            "  )\n",
            "  (upsample3): Sequential(\n",
            "    (0): Upsample(scale_factor=2.0, mode=nearest)\n",
            "    (1): Conv2d(384, 96, kernel_size=(3, 3), stride=(1, 1), padding=(1, 1), bias=False)\n",
            "    (2): BatchNorm2d(96, eps=1e-05, momentum=0.1, affine=True, track_running_stats=True)\n",
            "    (3): ReLU(inplace=True)\n",
            "  )\n",
            "  (upsample4): Sequential(\n",
            "    (0): Upsample(scale_factor=2.0, mode=nearest)\n",
            "    (1): Conv2d(96, 48, kernel_size=(3, 3), stride=(1, 1), padding=(1, 1), bias=False)\n",
            "    (2): BatchNorm2d(48, eps=1e-05, momentum=0.1, affine=True, track_running_stats=True)\n",
            "    (3): ReLU(inplace=True)\n",
            "  )\n",
            "  (img): Sequential(\n",
            "    (0): Conv2d(48, 3, kernel_size=(3, 3), stride=(1, 1), padding=(1, 1), bias=False)\n",
            "    (1): Tanh()\n",
            "  )\n",
            ")\n",
            "Traceback (most recent call last):\n",
            "  File \"main.py\", line 97, in <module>\n",
            "    algo.train(dataloader, cfg.STAGE)\n",
            "  File \"/content/multiple-objects-gan/code/coco/stackgan/trainer.py\", line 116, in train\n",
            "    netG, netD = self.load_network_stageII()\n",
            "  File \"/content/multiple-objects-gan/code/coco/stackgan/trainer.py\", line 90, in load_network_stageII\n",
            "    state_dict = torch.load(cfg.STAGE1_G, map_location=lambda storage, loc: storage)\n",
            "  File \"/usr/local/lib/python3.6/dist-packages/torch/serialization.py\", line 525, in load\n",
            "    with _open_file_like(f, 'rb') as opened_file:\n",
            "  File \"/usr/local/lib/python3.6/dist-packages/torch/serialization.py\", line 212, in _open_file_like\n",
            "    return _open_file(name_or_buffer, mode)\n",
            "  File \"/usr/local/lib/python3.6/dist-packages/torch/serialization.py\", line 193, in __init__\n",
            "    super(_open_file, self).__init__(open(name, mode))\n",
            "NotADirectoryError: [Errno 20] Not a directory: '../../../data/models/pretrained_model.pth'\n"
          ],
          "name": "stdout"
        }
      ]
    },
    {
      "cell_type": "code",
      "metadata": {
        "id": "tdw0MEy-31BR",
        "colab_type": "code",
        "outputId": "a169fa1c-c8ce-4d90-978e-a3951ddb0e70",
        "colab": {
          "base_uri": "https://localhost:8080/",
          "height": 35
        }
      },
      "source": [
        "cd data"
      ],
      "execution_count": 0,
      "outputs": [
        {
          "output_type": "stream",
          "text": [
            "/content/multiple-objects-gan/data\n"
          ],
          "name": "stdout"
        }
      ]
    },
    {
      "cell_type": "code",
      "metadata": {
        "id": "w6ykh-s5DI_w",
        "colab_type": "code",
        "colab": {}
      },
      "source": [
        "mkdir models"
      ],
      "execution_count": 0,
      "outputs": []
    },
    {
      "cell_type": "code",
      "metadata": {
        "id": "KwYTDCgCDTvW",
        "colab_type": "code",
        "outputId": "08842c71-e645-4a1d-94e3-bf99ef1e3755",
        "colab": {
          "base_uri": "https://localhost:8080/",
          "height": 35
        }
      },
      "source": [
        "cd models"
      ],
      "execution_count": 0,
      "outputs": [
        {
          "output_type": "stream",
          "text": [
            "/content/multiple-objects-gan/data/models\n"
          ],
          "name": "stdout"
        }
      ]
    },
    {
      "cell_type": "code",
      "metadata": {
        "id": "kbu5l9pWDZo3",
        "colab_type": "code",
        "colab": {}
      },
      "source": [
        "cp \"/content/drive/My Drive/Model/checkpoint_0119.pth\" \"/content/multiple-objects-gan/data/models\""
      ],
      "execution_count": 0,
      "outputs": []
    },
    {
      "cell_type": "code",
      "metadata": {
        "id": "Z6hJN_mLD4_B",
        "colab_type": "code",
        "outputId": "15067857-140c-47f3-a870-ed83cd42de6e",
        "colab": {
          "base_uri": "https://localhost:8080/",
          "height": 35
        }
      },
      "source": [
        "cd multiple-objects-gan/"
      ],
      "execution_count": 0,
      "outputs": [
        {
          "output_type": "stream",
          "text": [
            "/content/multiple-objects-gan\n"
          ],
          "name": "stdout"
        }
      ]
    },
    {
      "cell_type": "code",
      "metadata": {
        "id": "eSWznfHNFRm4",
        "colab_type": "code",
        "colab": {}
      },
      "source": [
        "import torch\n",
        "torch.cuda.empty_cache()"
      ],
      "execution_count": 0,
      "outputs": []
    },
    {
      "cell_type": "code",
      "metadata": {
        "id": "uKqxq2Hy_4rR",
        "colab_type": "code",
        "colab": {
          "base_uri": "https://localhost:8080/",
          "height": 35
        },
        "outputId": "15706254-ea46-4d98-d891-038503010309"
      },
      "source": [
        "cd .."
      ],
      "execution_count": 37,
      "outputs": [
        {
          "output_type": "stream",
          "text": [
            "/content\n"
          ],
          "name": "stdout"
        }
      ]
    },
    {
      "cell_type": "code",
      "metadata": {
        "id": "Cd5Z6tEe_Xfx",
        "colab_type": "code",
        "colab": {
          "base_uri": "https://localhost:8080/",
          "height": 464
        },
        "outputId": "facdfad1-0ef4-45c8-c727-0af275231eb5"
      },
      "source": [
        "!wget --load-cookies /tmp/cookies.txt \"https://docs.google.com/uc?export=download&confirm=$(wget --quiet --save-cookies /tmp/cookies.txt --keep-session-cookies --no-check-certificate 'https://docs.google.com/uc?export=download&id=1XlBL5ZvK-SosZsx8WWcHddmBnHm8TpAU' -O- | sed -rn 's/.*confirm=([0-9A-Za-z_]+).*/\\1\\n/p')&id=1XlBL5ZvK-SosZsx8WWcHddmBnHm8TpAU\" -O pretrained_model.pth && rm -rf /tmp/cookies.txt"
      ],
      "execution_count": 38,
      "outputs": [
        {
          "output_type": "stream",
          "text": [
            "--2020-04-12 20:06:41--  https://docs.google.com/uc?export=download&confirm=PNsZ&id=1XlBL5ZvK-SosZsx8WWcHddmBnHm8TpAU\n",
            "Resolving docs.google.com (docs.google.com)... 173.194.79.138, 173.194.79.102, 173.194.79.113, ...\n",
            "Connecting to docs.google.com (docs.google.com)|173.194.79.138|:443... connected.\n",
            "HTTP request sent, awaiting response... 302 Moved Temporarily\n",
            "Location: https://doc-0o-8c-docs.googleusercontent.com/docs/securesc/ffhc2si0hr901e7vohj06l2l05e47bpn/944adg3sre7t009te1k4vqadrusav8m7/1586721975000/06568122908834480149/09614407131578018589Z/1XlBL5ZvK-SosZsx8WWcHddmBnHm8TpAU?e=download [following]\n",
            "--2020-04-12 20:06:41--  https://doc-0o-8c-docs.googleusercontent.com/docs/securesc/ffhc2si0hr901e7vohj06l2l05e47bpn/944adg3sre7t009te1k4vqadrusav8m7/1586721975000/06568122908834480149/09614407131578018589Z/1XlBL5ZvK-SosZsx8WWcHddmBnHm8TpAU?e=download\n",
            "Resolving doc-0o-8c-docs.googleusercontent.com (doc-0o-8c-docs.googleusercontent.com)... 108.177.119.132, 2a00:1450:4013:c00::84\n",
            "Connecting to doc-0o-8c-docs.googleusercontent.com (doc-0o-8c-docs.googleusercontent.com)|108.177.119.132|:443... connected.\n",
            "HTTP request sent, awaiting response... 302 Found\n",
            "Location: https://docs.google.com/nonceSigner?nonce=g53udph71nqtu&continue=https://doc-0o-8c-docs.googleusercontent.com/docs/securesc/ffhc2si0hr901e7vohj06l2l05e47bpn/944adg3sre7t009te1k4vqadrusav8m7/1586721975000/06568122908834480149/09614407131578018589Z/1XlBL5ZvK-SosZsx8WWcHddmBnHm8TpAU?e%3Ddownload&hash=dt04b91osv2gc0clugfofd3ed69c3ml9 [following]\n",
            "--2020-04-12 20:06:41--  https://docs.google.com/nonceSigner?nonce=g53udph71nqtu&continue=https://doc-0o-8c-docs.googleusercontent.com/docs/securesc/ffhc2si0hr901e7vohj06l2l05e47bpn/944adg3sre7t009te1k4vqadrusav8m7/1586721975000/06568122908834480149/09614407131578018589Z/1XlBL5ZvK-SosZsx8WWcHddmBnHm8TpAU?e%3Ddownload&hash=dt04b91osv2gc0clugfofd3ed69c3ml9\n",
            "Connecting to docs.google.com (docs.google.com)|173.194.79.138|:443... connected.\n",
            "HTTP request sent, awaiting response... 302 Found\n",
            "Location: https://doc-0o-8c-docs.googleusercontent.com/docs/securesc/ffhc2si0hr901e7vohj06l2l05e47bpn/944adg3sre7t009te1k4vqadrusav8m7/1586721975000/06568122908834480149/09614407131578018589Z/1XlBL5ZvK-SosZsx8WWcHddmBnHm8TpAU?e=download&nonce=g53udph71nqtu&user=09614407131578018589Z&hash=a06sdneab6d189ph2hmjetndlbuh8icb [following]\n",
            "--2020-04-12 20:06:41--  https://doc-0o-8c-docs.googleusercontent.com/docs/securesc/ffhc2si0hr901e7vohj06l2l05e47bpn/944adg3sre7t009te1k4vqadrusav8m7/1586721975000/06568122908834480149/09614407131578018589Z/1XlBL5ZvK-SosZsx8WWcHddmBnHm8TpAU?e=download&nonce=g53udph71nqtu&user=09614407131578018589Z&hash=a06sdneab6d189ph2hmjetndlbuh8icb\n",
            "Connecting to doc-0o-8c-docs.googleusercontent.com (doc-0o-8c-docs.googleusercontent.com)|108.177.119.132|:443... connected.\n",
            "HTTP request sent, awaiting response... 200 OK\n",
            "Length: unspecified [application/octet-stream]\n",
            "Saving to: ‘pretrained_model.pth’\n",
            "\n",
            "pretrained_model.pt     [          <=>       ] 455.37M   225MB/s    in 2.0s    \n",
            "\n",
            "2020-04-12 20:06:44 (225 MB/s) - ‘pretrained_model.pth’ saved [477486037]\n",
            "\n"
          ],
          "name": "stdout"
        }
      ]
    }
  ]
}